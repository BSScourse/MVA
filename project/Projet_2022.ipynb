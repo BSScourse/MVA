{
 "cells": [
  {
   "cell_type": "markdown",
   "metadata": {
    "jupyter": {
     "outputs_hidden": true
    }
   },
   "source": [
    "## MVA - \"Méthodes de séparation de sources pour l’analyse de données en astrophysique\"\n",
    "\n",
    "## Final project\n",
    "\n",
    "This final project will be evaluated and will count for 50% of the final mark for this MVA module.\n",
    "\n",
    "The evaluation will be made based on:\n",
    "- in groups of 2\n",
    "- a 3 pages report\n",
    "- an oral presentation of 30 minutes (15 minutes of presentation + 15 minutes of questions)\n"
   ]
  },
  {
   "cell_type": "code",
   "execution_count": 225,
   "metadata": {},
   "outputs": [],
   "source": [
    "import matplotlib.pyplot as plt\n",
    "import numpy as np\n",
    "import torch\n",
    "import scipy.io as sio\n",
    "import sklearn\n",
    "%matplotlib inline"
   ]
  },
  {
   "cell_type": "markdown",
   "metadata": {},
   "source": [
    "## Data description\n",
    "\n",
    "The file chandra_data.npy contains a dictionary that is composed of the following variables:\n",
    "\n",
    "- LinModel : is a simulation of the Chandra data in high energy bands around the so-called iron line emissions; the simulation is a plain linear mixture of 3 components: i) a diffuse synchrotron emission, ii) 2 line emissions components that corresponds to red-shifted and blue-shifted iron sources. \n",
    "- MixingMatrix : mixing matrix for the linear model\n",
    "- Sources : 3 sources are present: synchrotron and blue-shifted/red-shifted iron sources estimated from the real data (it is just an approximation of the real data cube)\n",
    "\n",
    "- ComplexSims : is also a simulation of the same object, in the same energy bands, but where the model is more complex and includes a non-stationary mixture model (the mixing matrix varies across pixel); in other words the data have spectral variabilities. It is again composed of two main components: synchrotron and iron emission.\n",
    "\n",
    "- RealData : these are the real data cube of Chandra in the same energy bands\n",
    "\n",
    "It has to be noticed that the statistics of the data are Poissonian (the noise is Poissonian). If needed, we can provide examples of spectral variabilities for the iron emission."
   ]
  },
  {
   "cell_type": "markdown",
   "metadata": {},
   "source": [
    "## Work to be done\n",
    "\n",
    "Globally, the goal of this project is to *apply BSS or NMF methods to these different datasets, comment on the results and propose solutions to tackle the potential limitations of the chosen methods*. \n",
    "\n",
    "These datasets have increasing complexity: from linear/instantaneous mixture model to non-stationary model to real data. **We expect you to:**\n",
    "\n",
    "1 - Put in equation the models (linear and complex simulations) and propose a solution for each case to retrieve the components (synchrotron and iron emissions) that compose the data\n",
    "\n",
    "2 - Implement the proposed solution based on the techniques learnt during the course\n",
    "\n",
    "3 - Visualize, comment the results based on your knowledge about the data and the chosen methods\n",
    "\n",
    "4 - Propose a solution to alleviate the identified limitations\n",
    "\n",
    "5 - Test and validate the proposed approach with the real data\n",
    "\n",
    "*Don't hesitate to contact us if you need further information !*\n",
    "\n",
    "### References :\n",
    "\n",
    "[A novel method for component separation of extended sources in X-ray astronomy ](https://arxiv.org/pdf/1905.10175)\n",
    "\n",
    "[Three-dimensional morphological asymmetries in the ejecta of Cassiopeia A using a component separation method in X-rays](https://arxiv.org/pdf/2102.01507)\n"
   ]
  },
  {
   "cell_type": "code",
   "execution_count": 1,
   "metadata": {},
   "outputs": [],
   "source": [
    "### To be filled out with your solution\n",
    "\n",
    "\n",
    "\n",
    "\n",
    "\n",
    "\n",
    "\n",
    "###"
   ]
  },
  {
   "cell_type": "code",
   "execution_count": null,
   "metadata": {},
   "outputs": [],
   "source": []
  }
 ],
 "metadata": {
  "kernelspec": {
   "display_name": "Python 3",
   "language": "python",
   "name": "python3"
  },
  "language_info": {
   "codemirror_mode": {
    "name": "ipython",
    "version": 3
   },
   "file_extension": ".py",
   "mimetype": "text/x-python",
   "name": "python",
   "nbconvert_exporter": "python",
   "pygments_lexer": "ipython3",
   "version": "3.7.5"
  }
 },
 "nbformat": 4,
 "nbformat_minor": 4
}
