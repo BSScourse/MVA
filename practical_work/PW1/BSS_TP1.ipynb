{
 "cells": [
  {
   "cell_type": "markdown",
   "metadata": {
    "jupyter": {
     "outputs_hidden": true
    }
   },
   "source": [
    "## Practical work #1: Blind Source Separation - statistical approaches\n",
    "\n",
    "We strongly advise to use this notebook for these practical works.\n",
    "Participants that opt for Python will find the following modules helpful: \n",
    "- ipython\n",
    "- scipy/numpy\n",
    "- matplotlib\n",
    "- scikit-learn\n",
    "- scikit-image\n",
    "- astropy\n",
    "- pytorch\n",
    "\n",
    "Please note that for python codes, all the necessary routines are contained in the module pyBSS.py\n",
    "Most of them can be set up with easily using standard porting tools (apt-get, macport ... etc).\n",
    "All the necessary material is available at \\url{http://jerome-bobin.fr/teaching/master-2-mva/}}"
   ]
  },
  {
   "cell_type": "code",
   "execution_count": 1,
   "metadata": {},
   "outputs": [],
   "source": [
    "import codes.pyBSS as pb\n",
    "import matplotlib.pyplot as plt\n",
    "import numpy as np\n",
    "import astropy.io.fits as pyf\n",
    "import codes.Starlet2D as st2\n",
    "import torch\n",
    "import scipy.io as sio\n",
    "import sklearn\n",
    "%matplotlib inline"
   ]
  },
  {
   "cell_type": "markdown",
   "metadata": {},
   "source": [
    "## PART I - Independent Component Analysis\n",
    "### Data generation and second-order statistics\n",
    "The goal of the first part is to familiarize yourself with the statistical basics of Blind Source Separation and more particularly Independent Component Analysis. The journey will start with simple second-order statistics."
   ]
  },
  {
   "cell_type": "markdown",
   "metadata": {},
   "source": [
    "### Step I - Data generation and visualisation\n",
    "\n",
    "The function _GenerateMixture_ of the pyBSS module allows to generate sources with identically and independently distributed entries. The function works as follows:\n",
    "\n",
    "*X,A,S = pb.GenerateMixture(n=n,t=t,m=m,SType=1,CdA=1)*\n",
    "\n",
    "where n is the number of sources, t the number of samples per source and SType stands for the type of sources (1: Gaussian, 2: Uniform, 3: Sparse). The parameter CdA is the condition number of the mixing matrix. The outputs are the mixtures, the mixing matrix and the sources.\n",
    "\n",
    "##### **To be done #1: Generate 2 sources of different types and 2 mixtures. Visualise their respective scatter plots and comment. From a statistical viewpoint, to which quantity correspond the scatter plot ?**\n"
   ]
  },
  {
   "cell_type": "code",
   "execution_count": 2,
   "metadata": {},
   "outputs": [],
   "source": [
    "# Fill in with your solution\n",
    "# ...\n",
    "\n",
    "\n",
    "\n",
    "\n",
    "\n",
    "\n",
    "\n",
    "# ..."
   ]
  },
  {
   "cell_type": "markdown",
   "metadata": {},
   "source": [
    "### Step II - Second-order statistics\n",
    "\n",
    "##### **To be done #2: implement a code that performs the Principal Component Analysis, apply it to the 3 previously generated mixtures, visualise the results and comment.**"
   ]
  },
  {
   "cell_type": "code",
   "execution_count": 3,
   "metadata": {},
   "outputs": [],
   "source": [
    "# Fill in with your solution\n",
    "# ...\n",
    "\n",
    "\n",
    "\n",
    "\n",
    "\n",
    "\n",
    "\n",
    "# ..."
   ]
  },
  {
   "cell_type": "markdown",
   "metadata": {},
   "source": [
    "### From second-order statistics to statistical independence\n",
    "### Step III - From second-order statistics to statistical independence\n",
    "\n",
    "The python module scikit-learn (sklearn) contains an implementation of the fastica algorithm, an efficient ICA algorithm building upon a deflation-based optimisation procedure.\n",
    "\n",
    "##### **To be done #3: apply the fastica algorithm to the 3 previously generated mixtures, visualise the results and comment.**"
   ]
  },
  {
   "cell_type": "code",
   "execution_count": 4,
   "metadata": {},
   "outputs": [],
   "source": [
    "# Fill in with your solution\n",
    "# ...\n",
    "\n",
    "\n",
    "\n",
    "\n",
    "\n",
    "\n",
    "\n",
    "# ..."
   ]
  },
  {
   "cell_type": "markdown",
   "metadata": {},
   "source": [
    "A key element in a large number of applications of ICA is robustness to additive noise.\n",
    "\n",
    "##### **To be done #4:**\n",
    "**1. Implement a code that generates mixtures with known signal-to-noise (SNR) level.**\n",
    "\n",
    "**2. Apply the fastica algorithm to the mixtures (uniform or sparse), display a plot to show the evolution of the estimation quality (with your preferred metric) as a function of the SNR and comment.**\n",
    "\n",
    "*Tip: since the result of the fastica algorithm will depend on the noise realisation and initialisation, it might be interesting to average the results across various Monte-Carlo simulations corresponding to different noise realisations.*"
   ]
  },
  {
   "cell_type": "code",
   "execution_count": 5,
   "metadata": {
    "collapsed": false,
    "jupyter": {
     "outputs_hidden": false
    }
   },
   "outputs": [],
   "source": [
    "# Fill in with your solution\n",
    "# ...\n",
    "\n",
    "\n",
    "\n",
    "\n",
    "\n",
    "\n",
    "\n",
    "# ..."
   ]
  },
  {
   "cell_type": "markdown",
   "metadata": {},
   "source": [
    "##### **To be done #5:**\n",
    "**Propose and implement a protocol to test the equivariance property of FastICA.**\n"
   ]
  },
  {
   "cell_type": "code",
   "execution_count": 6,
   "metadata": {},
   "outputs": [],
   "source": [
    "# Fill in with your solution\n",
    "# ...\n",
    "\n",
    "\n",
    "\n",
    "\n",
    "\n",
    "\n",
    "\n",
    "# ..."
   ]
  },
  {
   "cell_type": "markdown",
   "metadata": {},
   "source": [
    "### Step IV - Application to astrophysical data\n",
    "\n",
    "The data folder contains 2 datasets of astrophysical sources: \"synthetic.npy\" and \"chandra.npy\" _(which can be loaded with the load function from numpy)_.\n",
    "\n",
    "Each file contains a numpy dict with one or two of these items: \"X\": the mixtures and \"S\" the input sources.\n",
    "\n",
    "##### **To be done #6: apply the fastica algorithm to the 2 mixtures, visualise the results and comment.**"
   ]
  },
  {
   "cell_type": "code",
   "execution_count": 7,
   "metadata": {},
   "outputs": [],
   "source": [
    "# Fill in with your solution\n",
    "# ...\n",
    "\n",
    "\n",
    "\n",
    "\n",
    "\n",
    "\n",
    "\n",
    "# ..."
   ]
  },
  {
   "cell_type": "markdown",
   "metadata": {},
   "source": [
    "## BSS, the sparse way !\n",
    "\n",
    "### Step V - Getting a sparse representation\n",
    "\n",
    "The module pyStarlet contains functions to compute the starlet transform of 1D and 2D signals and its inverse transform. For instance, the forward transform for 2D signals applies as follows:\n",
    "\n",
    "*c,w = Starlet_Forward2D(x,J=J)*\n",
    "\n",
    "where x is the input imageand J the number of wavelet scales. The outputs are c, the coarse scale approximation and w the different wavelet scales.\n",
    "\n",
    "##### **To be done #7: apply the Starlet transfrom to one of the previously used astronomical image, visualise the results and comment.**"
   ]
  },
  {
   "cell_type": "code",
   "execution_count": 8,
   "metadata": {},
   "outputs": [],
   "source": [
    "# Fill in with your solution\n",
    "# ...\n",
    "\n",
    "\n",
    "\n",
    "\n",
    "\n",
    "\n",
    "\n",
    "# ..."
   ]
  },
  {
   "cell_type": "code",
   "execution_count": 9,
   "metadata": {},
   "outputs": [],
   "source": [
    "#Add denoising -> k.mad"
   ]
  },
  {
   "cell_type": "markdown",
   "metadata": {},
   "source": [
    "### Step VI - the GMCA algorithm\n",
    "\n",
    "##### **To be done #8: \n",
    "- Could you explain the concept of \"morphological diversity\", on which the GMCA algorithm is built ?\n",
    "- Could you please derive the equations that describe the updates of the GMCA algorithm ?\n",
    "- implement the GMCA algorithm, assuming that the input are already sparsely represented (no need to include a sparsifying transform).**"
   ]
  },
  {
   "cell_type": "code",
   "execution_count": 10,
   "metadata": {},
   "outputs": [],
   "source": [
    "# Fill in with your solution\n",
    "# ...\n",
    "\n",
    "\n",
    "\n",
    "\n",
    "\n",
    "\n",
    "\n",
    "# ..."
   ]
  },
  {
   "cell_type": "markdown",
   "metadata": {},
   "source": [
    "##### **To be done #9: Apply the GMCA algorithm the astronomical data introduced in step IV. visualise and comment.**"
   ]
  },
  {
   "cell_type": "code",
   "execution_count": 11,
   "metadata": {},
   "outputs": [],
   "source": [
    "# Fill in with your solution\n",
    "# ...\n",
    "\n",
    "\n",
    "\n",
    "\n",
    "\n",
    "\n",
    "\n",
    "# ..."
   ]
  },
  {
   "cell_type": "markdown",
   "metadata": {},
   "source": [
    "That's all for this practical work session. The next one will focus on proximal algorithm and their application to sparse BSS."
   ]
  },
  {
   "cell_type": "code",
   "execution_count": null,
   "metadata": {},
   "outputs": [],
   "source": []
  }
 ],
 "metadata": {
  "kernelspec": {
   "display_name": "Python 3",
   "language": "python",
   "name": "python3"
  },
  "language_info": {
   "codemirror_mode": {
    "name": "ipython",
    "version": 3
   },
   "file_extension": ".py",
   "mimetype": "text/x-python",
   "name": "python",
   "nbconvert_exporter": "python",
   "pygments_lexer": "ipython3",
   "version": "3.7.5"
  }
 },
 "nbformat": 4,
 "nbformat_minor": 4
}
